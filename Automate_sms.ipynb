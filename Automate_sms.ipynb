{
 "cells": [
  {
   "cell_type": "code",
   "execution_count": 4,
   "id": "15756a2f",
   "metadata": {
    "scrolled": true
   },
   "outputs": [],
   "source": [
    "import re\n",
    "from twilio.rest import Client  \n",
    "def validate_phone_number(phone_number):\n",
    "    pattern = r'^\\+\\d{1,3}\\d{10}$'\n",
    "    return re.match(pattern, phone_number) is not None\n",
    "\n",
    "def send_sms(phone_number, message):\n",
    "    account_sid = 'YOUR_TWILIO_ACCOUNT_SID'\n",
    "    auth_token = 'YOUR_TWILIO_AUTH_TOKEN'\n",
    "    twilio_phone_number = 'YOUR_TWILIO_PHONE_NUMBER'\n",
    "\n",
    "    \n",
    "    client = Client(account_sid, auth_token)\n",
    "\n",
    "    try:\n",
    "       \n",
    "        client.messages.create(\n",
    "            to=phone_number,\n",
    "            from_=twilio_phone_number,\n",
    "            body=message\n",
    "        )\n",
    "        return True \n",
    "    except Exception as e:\n",
    "        print(f\"Error sending SMS: {str(e)}\")\n",
    "        return False  \n",
    "def validate_and_send_sms(phone_number, message):\n",
    "    if not validate_phone_number(phone_number):\n",
    "        return \"Invalid phone number format. Please use '+[country code][10-digit number]'.\"\n",
    "\n",
    "    if len(message) > 160:  \n",
    "        return \"Message is too long. Please keep it under 160 characters.\"\n",
    "\n",
    "    if send_sms(phone_number, message):\n",
    "        return \"SMS sent successfully.\"\n",
    "    else:\n",
    "        return \"Failed to send SMS due to network issues.\"\n",
    "    \n",
    "    \n",
    "    \n",
    "    \n",
    "    \n",
    "\n",
    "\n",
    "\n"
   ]
  },
  {
   "cell_type": "code",
   "execution_count": null,
   "id": "3b716948",
   "metadata": {},
   "outputs": [],
   "source": [
    "from sms import validate_and_send_sms\n",
    "\n",
    "def main():\n",
    "    print(\"Welcome to the SMS handling system!\")\n",
    "\n",
    "    while True:\n",
    "        phone_number = input(\"Enter the recipient's phone number (+[country code][10-digit number]): \")\n",
    "        message = input(\"Enter the message (up to 160 characters): \")\n",
    "\n",
    "        result = validate_and_send_sms(phone_number, message)\n",
    "        print(result)\n",
    "\n",
    "        another_sms = input(\"Do you want to send another SMS? (yes/no): \")\n",
    "        if another_sms.lower() != 'yes':\n",
    "            break\n",
    "\n",
    "if __name__ == \"__main__\":\n",
    "    main()"
   ]
  }
 ],
 "metadata": {
  "kernelspec": {
   "display_name": "Python 3 (ipykernel)",
   "language": "python",
   "name": "python3"
  },
  "language_info": {
   "codemirror_mode": {
    "name": "ipython",
    "version": 3
   },
   "file_extension": ".py",
   "mimetype": "text/x-python",
   "name": "python",
   "nbconvert_exporter": "python",
   "pygments_lexer": "ipython3",
   "version": "3.9.12"
  }
 },
 "nbformat": 4,
 "nbformat_minor": 5
}
